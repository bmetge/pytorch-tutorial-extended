{
 "cells": [
  {
   "cell_type": "markdown",
   "metadata": {},
   "source": [
    "# Goal\n",
    "This notebook idea is to extend the good PyTorch tutorial on generating names https://pytorch.org/tutorials/intermediate/char_rnn_generation_tutorial.html\n",
    "by adding some general PyTorch good pratice to it : batching by using a Dataset/Dalaloader, training using an optimizer,etc.\n",
    "\n",
    "**data** : https://download.pytorch.org/tutorial/data.zip\n",
    "\n",
    "\n",
    "**remark**: Some functions could be better implemented but my first idea is to keep the things as close to the tutorial as possible, to focus on the concepts added. ( that might change, this is still just a draft)\n"
   ]
  },
  {
   "cell_type": "code",
   "execution_count": 2,
   "metadata": {},
   "outputs": [
    {
     "name": "stdout",
     "output_type": "stream",
     "text": [
      "# categories: 18 ['Korean', 'Japanese', 'Italian', 'English', 'Russian', 'Irish', 'Czech', 'Spanish', 'Portuguese', 'Dutch', 'Greek', 'German', 'Chinese', 'Arabic', 'Scottish', 'Polish', 'Vietnamese', 'French']\n",
      "O'Neal\n"
     ]
    }
   ],
   "source": [
    "from __future__ import unicode_literals, print_function, division\n",
    "from io import open\n",
    "import glob\n",
    "import os\n",
    "import unicodedata\n",
    "import string\n",
    "from tqdm import tqdm\n",
    "\n",
    "\n",
    "all_letters = string.ascii_letters + \" .,;'-\"\n",
    "n_letters = len(all_letters) + 1 # Plus EOS marker\n",
    "\n",
    "def findFiles(path): return glob.glob(path)\n",
    "\n",
    "# Turn a Unicode string to plain ASCII, thanks to https://stackoverflow.com/a/518232/2809427\n",
    "def unicodeToAscii(s):\n",
    "    return ''.join(\n",
    "        c for c in unicodedata.normalize('NFD', s)\n",
    "        if unicodedata.category(c) != 'Mn'\n",
    "        and c in all_letters\n",
    "    )\n",
    "\n",
    "# Read a file and split into lines\n",
    "def readLines(filename):\n",
    "    lines = open(filename, encoding='utf-8').read().strip().split('\\n')\n",
    "    return [unicodeToAscii(line.strip()) for line in lines]\n",
    "\n",
    "# Build the category_lines dictionary, a list of lines per category\n",
    "category_lines = {}\n",
    "all_categories = []\n",
    "for filename in findFiles('data/names/*.txt'):\n",
    "    category = os.path.splitext(os.path.basename(filename))[0]\n",
    "    all_categories.append(category)\n",
    "    lines = readLines(filename)\n",
    "    category_lines[category] = lines\n",
    "\n",
    "n_categories = len(all_categories)\n",
    "\n",
    "if n_categories == 0:\n",
    "    raise RuntimeError('Data not found. Make sure that you downloaded data '\n",
    "        'from https://download.pytorch.org/tutorial/data.zip and extract it to '\n",
    "        'the current directory.')\n",
    "\n",
    "print('# categories:', n_categories, all_categories)\n",
    "print(unicodeToAscii(\"O'Néàl\"))"
   ]
  },
  {
   "cell_type": "code",
   "execution_count": 3,
   "metadata": {},
   "outputs": [],
   "source": [
    "import torch\n",
    "import torch.nn as nn\n",
    "import torch.optim as optim\n",
    "from torch.utils.data.dataset import Dataset\n",
    "from torch.utils.data.dataloader import DataLoader\n",
    "import random\n",
    "device=\"cuda:0\" # to use the GPU"
   ]
  },
  {
   "cell_type": "code",
   "execution_count": 4,
   "metadata": {},
   "outputs": [],
   "source": [
    "class RNN(nn.Module):\n",
    "    \n",
    "    def __init__(self, cat_size, input_size, hidden_size, output_size):\n",
    "        super(RNN,self).__init__()\n",
    "        self.hidden_size = hidden_size\n",
    "        self.i2h = nn.Linear(cat_size + input_size + hidden_size, hidden_size)\n",
    "        self.i2o = nn.Linear(cat_size + input_size + hidden_size, output_size)\n",
    "        self.o2o = nn.Linear(output_size + hidden_size, output_size)\n",
    "        self.dropout = nn.Dropout(0.1)\n",
    "        self.softmax = nn.LogSoftmax(dim=1)\n",
    "        \n",
    "    def initHidden(self, batchsize=1):\n",
    "        return torch.zeros(batchsize, self.hidden_size)\n",
    "    \n",
    "    def forward(self, category, input, hidden):\n",
    "        input_combined = torch.cat((category, input, hidden), 1)\n",
    "        hidden = self.i2h(input_combined)\n",
    "        output = self.i2o(input_combined)\n",
    "        output_combined = torch.cat((hidden, output), 1)\n",
    "        output = self.o2o(output_combined)\n",
    "        output = self.dropout(output)\n",
    "        output = self.softmax(output)\n",
    "        return output, hidden"
   ]
  },
  {
   "cell_type": "code",
   "execution_count": 5,
   "metadata": {},
   "outputs": [],
   "source": [
    "# The dataset wrap all the function related to data manipulation in a class\n",
    "# The important functions to notice are __getitem__ which is call when doing dataset[i] to get the i elem of the dataset ( TODO: currently I am still just getting a random sample)\n",
    "# and the __len__ function that is compusory in any dataset\n",
    "# more info : https://pytorch.org/docs/stable/data.html#torch.utils.data.Dataset \n",
    "# tutorial : https://pytorch.org/tutorials/beginner/data_loading_tutorial.html\n",
    "class namesDs(Dataset):\n",
    "    \n",
    "    def __init__(self, category_lines):\n",
    "        super(Dataset, self).__init__()\n",
    "        self.category_lines = category_lines\n",
    "        self.all_categories = list(self.category_lines.keys())\n",
    "        self.n_categories = len(self.all_categories)\n",
    "        self.all_letters = string.ascii_letters + \" .,;'-\"\n",
    "        self.n_letters = len(self.all_letters) + 1\n",
    "        self.all_names = \";\".join([\";\".join(self.category_lines[key]) for key in self.category_lines.keys()]).split(';')\n",
    "        self.size = len(self.all_names)\n",
    "        self.max_name_size = len(max(self.all_names, key=len))\n",
    "        \n",
    "    def __len__(self):\n",
    "        return self.size\n",
    "    \n",
    "    def randomTrainingPair(self):\n",
    "        category = random.choice(self.all_categories)\n",
    "        line = random.choice(self.category_lines[category])\n",
    "        return category, line\n",
    "\n",
    "    # One-hot vector for category\n",
    "    def categoryTensor(self, category):\n",
    "        li = self.all_categories.index(category)\n",
    "        tensor = torch.zeros(self.n_categories)\n",
    "        tensor[li] = 1\n",
    "        return tensor\n",
    "\n",
    "    # One-hot matrix of first to last letters (not including EOS) for input\n",
    "    def inputTensor(self, line):\n",
    "        tensor = torch.zeros(self.max_name_size, self.n_letters)\n",
    "        for li in range(len(line)):\n",
    "            letter = line[li]\n",
    "            tensor[li][self.all_letters.find(letter)] = 1\n",
    "        return tensor\n",
    "\n",
    "    # LongTensor of second letter to end (EOS) for target\n",
    "    def targetTensor(self, line):\n",
    "        letter_indexes = [self.all_letters.find(line[li]) for li in range(1, len(line))]\n",
    "        for i in range(len(letter_indexes), self.max_name_size):\n",
    "            letter_indexes.append(self.n_letters - 1) # EOS Padding\n",
    "        return torch.LongTensor(letter_indexes)\n",
    "    \n",
    "    def __getitem__(self, index):\n",
    "        category, line = self.randomTrainingPair()\n",
    "        category_tensor = self.categoryTensor(category)\n",
    "        input_line_tensor = self.inputTensor(line)\n",
    "        target_line_tensor = self.targetTensor(line)\n",
    "        return category_tensor, input_line_tensor, target_line_tensor\n",
    "            \n",
    "    def display(self):\n",
    "        return self.all_categories\n",
    "\n",
    "        "
   ]
  },
  {
   "cell_type": "code",
   "execution_count": 6,
   "metadata": {},
   "outputs": [],
   "source": [
    "ds = namesDs(category_lines)"
   ]
  },
  {
   "cell_type": "code",
   "execution_count": 7,
   "metadata": {},
   "outputs": [],
   "source": [
    "cat_size = len(all_categories)\n",
    "input_size= len(all_letters)\n",
    "hidden_size = 128\n",
    "output_size = len(all_letters)"
   ]
  },
  {
   "cell_type": "code",
   "execution_count": 8,
   "metadata": {},
   "outputs": [],
   "source": [
    "criterion = nn.NLLLoss()\n",
    "\n",
    "learning_rate = 0.0005\n",
    "\n",
    "def train(rnn, optim, category_tensor, input_line_tensor, target_line_tensor):\n",
    "    target_line_tensor.unsqueeze_(-1)\n",
    "    \n",
    "    rnn.zero_grad()\n",
    "    \n",
    "    hidden = rnn.initHidden()\n",
    "\n",
    "    loss = 0\n",
    "    for i in range(input_line_tensor.size(0)):\n",
    "        output, hidden = rnn(category_tensor, input_line_tensor[i], hidden)\n",
    "        l = criterion(output, target_line_tensor[i])\n",
    "        loss += l\n",
    "\n",
    "    loss.backward()\n",
    "    optim.step()\n",
    "\n",
    "    return output, loss.item() / input_line_tensor.size(0)"
   ]
  },
  {
   "cell_type": "code",
   "execution_count": 9,
   "metadata": {},
   "outputs": [],
   "source": [
    "def train_batch(rnn, optim, category_tensor, input_line_tensor, target_line_tensor):\n",
    "    \n",
    "    rnn.zero_grad()\n",
    "    \n",
    "    hidden = rnn.initHidden(input_line_tensor.size(0))\n",
    "\n",
    "    loss = 0\n",
    "    for i in range(input_line_tensor.size(1)):\n",
    "        output, hidden = rnn(category_tensor, input_line_tensor[:,i], hidden)\n",
    "        l = criterion(output, target_line_tensor[:,i])\n",
    "        loss += l\n",
    "    \n",
    "    # compute the gradients\n",
    "    loss.backward()\n",
    "    \n",
    "    # Do the backprop\n",
    "    optim.step()\n",
    "\n",
    "    return output, loss.item() / input_line_tensor.size(0)"
   ]
  },
  {
   "cell_type": "code",
   "execution_count": 10,
   "metadata": {},
   "outputs": [],
   "source": [
    "import time\n",
    "import math\n",
    "\n",
    "def timeSince(since):\n",
    "    now = time.time()\n",
    "    s = now - since\n",
    "    m = math.floor(s / 60)\n",
    "    s -= m * 60\n",
    "    return '%dm %ds' % (m, s)"
   ]
  },
  {
   "cell_type": "code",
   "execution_count": 11,
   "metadata": {},
   "outputs": [
    {
     "name": "stderr",
     "output_type": "stream",
     "text": [
      "100%|██████████| 837/837 [00:13<00:00, 67.60it/s]\n",
      "100%|██████████| 837/837 [00:12<00:00, 68.73it/s]\n",
      "100%|██████████| 837/837 [00:12<00:00, 67.26it/s]\n",
      "100%|██████████| 837/837 [00:14<00:00, 56.10it/s]\n",
      "100%|██████████| 837/837 [00:12<00:00, 69.61it/s]\n",
      "100%|██████████| 837/837 [00:12<00:00, 69.21it/s]\n",
      "100%|██████████| 837/837 [00:12<00:00, 68.93it/s]\n",
      "100%|██████████| 837/837 [00:12<00:00, 67.29it/s]\n",
      "100%|██████████| 837/837 [00:12<00:00, 68.98it/s]\n",
      "100%|██████████| 837/837 [00:15<00:00, 54.93it/s]\n",
      "100%|██████████| 837/837 [00:12<00:00, 68.74it/s]\n",
      "100%|██████████| 837/837 [00:12<00:00, 68.67it/s]\n",
      "100%|██████████| 837/837 [00:12<00:00, 70.36it/s]\n",
      "100%|██████████| 837/837 [00:12<00:00, 68.73it/s]\n",
      "100%|██████████| 837/837 [00:12<00:00, 69.12it/s]\n"
     ]
    }
   ],
   "source": [
    "import time\n",
    "rnn = RNN(cat_size, n_letters, hidden_size, n_letters)\n",
    "lr = 0.0005\n",
    "# using an optimizer avoids you from having to manually updating the models weigths as in the tutorial\n",
    "# more info : https://pytorch.org/docs/stable/optim.html\n",
    "op = optim.Adam(rnn.parameters(), lr = lr)\n",
    "criterion = nn.NLLLoss()\n",
    "\n",
    "# the dataloader handle the batching for us!\n",
    "dl = DataLoader(ds, batch_size=24, shuffle=True)\n",
    "\n",
    "n_iters = 1000\n",
    "print_every = 100\n",
    "plot_every = 10\n",
    "all_losses = []\n",
    "total_loss = 0 # Reset every plot_every iters\n",
    "\n",
    "start = time.time()\n",
    "\n",
    "\n",
    "p = 0\n",
    "max_epochs = 15\n",
    "# Loop over epochs\n",
    "\n",
    "# Training\n",
    "for epoch in range(max_epochs):\n",
    "    for cat_t, inp_t, out_t in tqdm(dl):\n",
    "        # Transfer to GPU\n",
    "        #local_batch, local_labels = local_batch.to(device), local_labels.to(device)\n",
    "        output, loss = train_batch(rnn, op, cat_t, inp_t, out_t)\n",
    "        total_loss += loss\n",
    "        if p % plot_every == 0:\n",
    "            all_losses.append(total_loss / plot_every)\n",
    "            total_loss = 0\n",
    "        \n",
    "        "
   ]
  },
  {
   "cell_type": "code",
   "execution_count": 334,
   "metadata": {},
   "outputs": [
    {
     "data": {
      "text/plain": [
       "[<matplotlib.lines.Line2D at 0x7fcbc188a438>]"
      ]
     },
     "execution_count": 334,
     "metadata": {},
     "output_type": "execute_result"
    },
    {
     "data": {
      "image/png": "[encoded data removed]",
      "text/plain": [
       "<Figure size 432x288 with 1 Axes>"
      ]
     },
     "metadata": {
      "needs_background": "light"
     },
     "output_type": "display_data"
    }
   ],
   "source": [
    "import matplotlib.pyplot as plt\n",
    "import matplotlib.ticker as ticker\n",
    "\n",
    "plt.figure()\n",
    "plt.plot(all_losses)"
   ]
  },
  {
   "cell_type": "code",
   "execution_count": 12,
   "metadata": {},
   "outputs": [
    {
     "name": "stdout",
     "output_type": "stream",
     "text": [
      "Fake Russian names:\n",
      "\n",
      "Vallanov\n",
      "Tarkov\n",
      "Chambong\n",
      "\n",
      "Fake Chinese names:\n",
      "\n",
      "Vin\n",
      "Than\n",
      "Cha\n",
      "\n",
      "Fake French names:\n",
      "\n",
      "Vanter\n",
      "Toure\n",
      "Carie\n",
      "\n",
      "Fake Scottish names:\n",
      "\n",
      "Vinger\n",
      "Trichan\n",
      "Chane\n",
      "\n",
      "Fake English names:\n",
      "\n",
      "Vinter\n",
      "Torgen\n",
      "Champon\n"
     ]
    }
   ],
   "source": [
    "max_length = 20\n",
    "\n",
    "# Sample from a category and starting letter\n",
    "def sample(category, start_letter='A'):\n",
    "    with torch.no_grad():  # no need to track history in sampling\n",
    "        category_tensor = ds.categoryTensor(category)\n",
    "        input = ds.inputTensor(start_letter)\n",
    "        hidden = rnn.initHidden()\n",
    "\n",
    "        output_name = start_letter\n",
    "\n",
    "        for i in range(max_length):\n",
    "            output, hidden = rnn(category_tensor.view(1,-1), input[:1], hidden)\n",
    "            topv, topi = output.topk(1)\n",
    "            topi = topi[0][0]\n",
    "            if topi == n_letters - 1:\n",
    "                break\n",
    "            else:\n",
    "                letter = all_letters[topi]\n",
    "                output_name += letter\n",
    "            input = ds.inputTensor(letter)\n",
    "\n",
    "        return output_name\n",
    "\n",
    "# Get multiple samples from one category and multiple starting letters\n",
    "def samples(category, start_letters='ABC'):\n",
    "    for start_letter in start_letters:\n",
    "        print(sample(category, start_letter))\n",
    "\n",
    "print('Fake Russian names:\\n')\n",
    "samples('Russian', 'VTC')\n",
    "print('\\nFake Chinese names:\\n')      \n",
    "samples('Chinese', 'VTC')\n",
    "print('\\nFake French names:\\n')\n",
    "samples('French', 'VTC')\n",
    "print('\\nFake Scottish names:\\n')\n",
    "samples('Scottish', 'VTC')\n",
    "print('\\nFake English names:\\n')\n",
    "samples('English', 'VTC')\n"
   ]
  },
  {
   "cell_type": "code",
   "execution_count": null,
   "metadata": {},
   "outputs": [],
   "source": []
  }
 ],
 "metadata": {
  "kernelspec": {
   "display_name": "Python 3",
   "language": "python",
   "name": "python3"
  },
  "language_info": {
   "codemirror_mode": {
    "name": "ipython",
    "version": 3
   },
   "file_extension": ".py",
   "mimetype": "text/x-python",
   "name": "python",
   "nbconvert_exporter": "python",
   "pygments_lexer": "ipython3",
   "version": "3.7.1"
  }
 },
 "nbformat": 4,
 "nbformat_minor": 2
}
